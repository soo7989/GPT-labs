{
 "cells": [
  {
   "cell_type": "code",
   "execution_count": 1,
   "id": "initial_id",
   "metadata": {
    "collapsed": true,
    "ExecuteTime": {
     "end_time": "2024-03-28T15:52:04.001115Z",
     "start_time": "2024-03-28T15:52:03.304699Z"
    }
   },
   "outputs": [],
   "source": [
    "from langchain.chat_models import ChatOpenAI\n",
    "from langchain.prompts.few_shot import FewShotChatMessagePromptTemplate\n",
    "from langchain.memory import ConversationSummaryBufferMemory\n",
    "from langchain.schema.runnable import RunnablePassthrough\n",
    "from langchain.prompts import ChatPromptTemplate, MessagesPlaceholder\n",
    "\n",
    "llm = ChatOpenAI(temperature=0.1)"
   ]
  },
  {
   "cell_type": "code",
   "outputs": [],
   "source": [
    "examples = [\n",
    "    {\n",
    "        \"movie_name\": \"탑건\",\n",
    "        \"answer\": \"🛩️✈️🔥\",\n",
    "    },\n",
    "    {\n",
    "        \"movie_name\": \"대부\",\n",
    "        \"answer\": \"👨‍👨‍👦🔫🍝\",\n",
    "    },\n",
    "]\n",
    "\n",
    "example_prompt = ChatPromptTemplate.from_messages(\n",
    "    [(\"human\", \"영화 제목에 대하여 이모티콘 3개로만 표현해줘\"), (\"ai\", \"{answer}\")]\n",
    ")\n",
    "\n",
    "example_template = FewShotChatMessagePromptTemplate(\n",
    "    example_prompt=example_prompt,\n",
    "    examples=examples,\n",
    ")"
   ],
   "metadata": {
    "collapsed": false,
    "ExecuteTime": {
     "end_time": "2024-03-28T15:52:04.003910Z",
     "start_time": "2024-03-28T15:52:04.001967Z"
    }
   },
   "id": "7e95f37d2033aa0f",
   "execution_count": 2
  },
  {
   "cell_type": "code",
   "outputs": [
    {
     "name": "stdout",
     "output_type": "stream",
     "text": [
      "content='⏰🕰️🎥'\n"
     ]
    }
   ],
   "source": [
    "memory = ConversationSummaryBufferMemory(\n",
    "    llm=llm,\n",
    "    max_token_limit=150,\n",
    "    return_messages=True,\n",
    ")\n",
    "\n",
    "helpful_ai_prompt = ChatPromptTemplate.from_messages(\n",
    "    [\n",
    "        (\"system\", \"너는 세계의 영화 정보를 모두 알고 있어. 내가 영화 제목을 말하면 예제처럼 이모티콘으로 제목을 표현해줘\"),\n",
    "        example_template,\n",
    "        MessagesPlaceholder(variable_name=\"history\"),\n",
    "        (\"human\", \"{question}\"),\n",
    "    ]\n",
    ")\n",
    "\n",
    "\n",
    "def load_memory(_):\n",
    "    return memory.load_memory_variables({})[\"history\"]\n",
    "\n",
    "\n",
    "movie_emoticon_chain = RunnablePassthrough.assign(history=load_memory) | helpful_ai_prompt | llm\n",
    "\n",
    "\n",
    "def invoke_chain(question):\n",
    "    result = movie_emoticon_chain.invoke({\"question\": question})\n",
    "    memory.save_context(\n",
    "        {\"input\": question},\n",
    "        {\"output\": result.content}\n",
    "    )\n",
    "    print(result)\n",
    "\n",
    "\n",
    "invoke_chain(\"모던타임즈 이모티콘\")\n"
   ],
   "metadata": {
    "collapsed": false,
    "ExecuteTime": {
     "end_time": "2024-03-28T15:52:04.933080Z",
     "start_time": "2024-03-28T15:52:04.004402Z"
    }
   },
   "id": "fe8d462a3713eb47",
   "execution_count": 3
  },
  {
   "cell_type": "code",
   "outputs": [
    {
     "name": "stdout",
     "output_type": "stream",
     "text": [
      "content='🦇🃏🌃'\n"
     ]
    }
   ],
   "source": [
    "invoke_chain(\"다크나이트 이모티콘\")"
   ],
   "metadata": {
    "collapsed": false,
    "ExecuteTime": {
     "end_time": "2024-03-28T15:52:06.307613Z",
     "start_time": "2024-03-28T15:52:04.934197Z"
    }
   },
   "id": "eb747ec9fe8f270e",
   "execution_count": 4
  },
  {
   "cell_type": "code",
   "outputs": [
    {
     "name": "stdout",
     "output_type": "stream",
     "text": [
      "content='첫번째 질문한 영화는 \"탑건\"입니다.'\n"
     ]
    }
   ],
   "source": [
    "invoke_chain(\"내가 첫번째 질문한 영화 알려줘\")"
   ],
   "metadata": {
    "collapsed": false,
    "ExecuteTime": {
     "end_time": "2024-03-28T15:52:07.287992Z",
     "start_time": "2024-03-28T15:52:06.308429Z"
    }
   },
   "id": "140a2ef04a27d4fc",
   "execution_count": 5
  },
  {
   "cell_type": "code",
   "outputs": [
    {
     "name": "stdout",
     "output_type": "stream",
     "text": [
      "content='알겠어, 죄송해요. 첫번째 질문한 영화는 \"모던 타임즈\"입니다.'\n"
     ]
    }
   ],
   "source": [
    "invoke_chain(\"그건 예제로 넣어 준 자료잖아, 예제를 제외하고 말해줘\")"
   ],
   "metadata": {
    "collapsed": false,
    "ExecuteTime": {
     "end_time": "2024-03-28T15:52:09.438712Z",
     "start_time": "2024-03-28T15:52:07.288872Z"
    }
   },
   "id": "e534dfcea6be6d71",
   "execution_count": 6
  },
  {
   "cell_type": "code",
   "outputs": [
    {
     "name": "stdout",
     "output_type": "stream",
     "text": [
      "content='첫번째 질문한 영화는 \"Top Gun\"이었습니다.'\n"
     ]
    }
   ],
   "source": [
    "invoke_chain(\"내가 첫번째 질문한 영화 알려줘\")"
   ],
   "metadata": {
    "collapsed": false,
    "ExecuteTime": {
     "end_time": "2024-03-28T15:52:11.961289Z",
     "start_time": "2024-03-28T15:52:09.439632Z"
    }
   },
   "id": "a02dee1102b2d04b",
   "execution_count": 7
  },
  {
   "cell_type": "code",
   "outputs": [
    {
     "name": "stdout",
     "output_type": "stream",
     "text": [
      "content='네번째로 질문한 영화는 \"The Dark Knight\"입니다.'\n"
     ]
    }
   ],
   "source": [
    "invoke_chain(\"내가 네번째 질문한 영화 알려줘\")"
   ],
   "metadata": {
    "collapsed": false,
    "ExecuteTime": {
     "end_time": "2024-03-28T15:52:16.178905Z",
     "start_time": "2024-03-28T15:52:11.962996Z"
    }
   },
   "id": "87b444ef0863655a",
   "execution_count": 8
  },
  {
   "cell_type": "code",
   "outputs": [],
   "source": [],
   "metadata": {
    "collapsed": false,
    "ExecuteTime": {
     "end_time": "2024-03-28T15:52:16.182423Z",
     "start_time": "2024-03-28T15:52:16.180188Z"
    }
   },
   "id": "da8aca3e709b198f",
   "execution_count": 8
  },
  {
   "cell_type": "code",
   "outputs": [],
   "source": [],
   "metadata": {
    "collapsed": false,
    "ExecuteTime": {
     "end_time": "2024-03-28T15:52:16.187Z",
     "start_time": "2024-03-28T15:52:16.185216Z"
    }
   },
   "id": "89ec22dae73dde1a",
   "execution_count": 8
  }
 ],
 "metadata": {
  "kernelspec": {
   "display_name": "Python 3",
   "language": "python",
   "name": "python3"
  },
  "language_info": {
   "codemirror_mode": {
    "name": "ipython",
    "version": 2
   },
   "file_extension": ".py",
   "mimetype": "text/x-python",
   "name": "python",
   "nbconvert_exporter": "python",
   "pygments_lexer": "ipython2",
   "version": "2.7.6"
  }
 },
 "nbformat": 4,
 "nbformat_minor": 5
}
