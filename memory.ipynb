{
 "cells": [
  {
   "cell_type": "code",
   "execution_count": 4,
   "id": "initial_id",
   "metadata": {
    "collapsed": true,
    "ExecuteTime": {
     "end_time": "2024-03-28T08:01:47.505695Z",
     "start_time": "2024-03-28T08:01:45.820175Z"
    }
   },
   "outputs": [],
   "source": [
    "from langchain.memory import  ConversationBufferMemory\n"
   ]
  },
  {
   "cell_type": "code",
   "outputs": [
    {
     "data": {
      "text/plain": "{'history': [HumanMessage(content='Hello!'),\n  AIMessage(content='How are you?')]}"
     },
     "execution_count": 6,
     "metadata": {},
     "output_type": "execute_result"
    }
   ],
   "source": [
    "memory = ConversationBufferMemory(\n",
    "\treturn_messages=True\n",
    ")\n",
    "\n",
    "memory.save_context({\"input\": \"Hello!\"}, {\"output\": \"How are you?\"})\n",
    "memory.load_memory_variables({})"
   ],
   "metadata": {
    "collapsed": false,
    "ExecuteTime": {
     "end_time": "2024-03-28T08:11:38.484578Z",
     "start_time": "2024-03-28T08:11:38.456048Z"
    }
   },
   "id": "8dcc13f611e2890d",
   "execution_count": 6
  },
  {
   "cell_type": "code",
   "outputs": [],
   "source": [],
   "metadata": {
    "collapsed": false,
    "ExecuteTime": {
     "end_time": "2024-03-28T08:01:47.511880Z",
     "start_time": "2024-03-28T08:01:47.510597Z"
    }
   },
   "id": "61367938c4a482c5",
   "execution_count": 5
  }
 ],
 "metadata": {
  "kernelspec": {
   "display_name": "Python 3",
   "language": "python",
   "name": "python3"
  },
  "language_info": {
   "codemirror_mode": {
    "name": "ipython",
    "version": 2
   },
   "file_extension": ".py",
   "mimetype": "text/x-python",
   "name": "python",
   "nbconvert_exporter": "python",
   "pygments_lexer": "ipython2",
   "version": "2.7.6"
  }
 },
 "nbformat": 4,
 "nbformat_minor": 5
}
