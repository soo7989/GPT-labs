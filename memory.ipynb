{
 "cells": [
  {
   "cell_type": "code",
   "execution_count": 25,
   "id": "initial_id",
   "metadata": {
    "collapsed": true,
    "ExecuteTime": {
     "end_time": "2024-03-28T11:36:56.987052Z",
     "start_time": "2024-03-28T11:36:56.984178Z"
    }
   },
   "outputs": [],
   "source": [
    "from langchain.chat_models import ChatOpenAI\n",
    "from langchain.memory import ConversationSummaryBufferMemory\n",
    "from langchain.chains import LLMChain\n",
    "from langchain.prompts import PromptTemplate"
   ]
  },
  {
   "cell_type": "code",
   "outputs": [
    {
     "name": "stdout",
     "output_type": "stream",
     "text": [
      "\n",
      "\n",
      "\u001B[1m> Entering new LLMChain chain...\u001B[0m\n",
      "Prompt after formatting:\n",
      "\u001B[32;1m\u001B[1;3m\n",
      "    You are a helpful AI talking to a human.\n",
      "    \n",
      "    Human : What is your name?\n",
      "    you:\n",
      "\u001B[0m\n",
      "\n",
      "\u001B[1m> Finished chain.\u001B[0m\n"
     ]
    },
    {
     "data": {
      "text/plain": "'I am an AI assistant, so I do not have a name like a human does. You can just call me AI or assistant. How can I help you today?'"
     },
     "execution_count": 26,
     "metadata": {},
     "output_type": "execute_result"
    }
   ],
   "source": [
    "llm = ChatOpenAI(temperature=0.1)\n",
    "memory = ConversationSummaryBufferMemory(\n",
    "    llm=llm,\n",
    "    max_token_limit=90,\n",
    "    memory_key=\"chat_history\"\n",
    ")\n",
    "template = \"\"\"\n",
    "    You are a helpful AI talking to a human.\n",
    "    {chat_history}\n",
    "    Human : {question}\n",
    "    you:\n",
    "\"\"\"\n",
    "chain = LLMChain(\n",
    "    llm=llm, \n",
    "    memory=memory, \n",
    "    prompt=PromptTemplate.from_template(template),\n",
    "    verbose=True,\n",
    ")\n",
    "chain.predict(question=\"What is your name?\")"
   ],
   "metadata": {
    "collapsed": false,
    "ExecuteTime": {
     "end_time": "2024-03-28T11:36:59.389139Z",
     "start_time": "2024-03-28T11:36:56.988939Z"
    }
   },
   "id": "8dcc13f611e2890d",
   "execution_count": 26
  },
  {
   "cell_type": "code",
   "outputs": [
    {
     "name": "stdout",
     "output_type": "stream",
     "text": [
      "\n",
      "\n",
      "\u001B[1m> Entering new LLMChain chain...\u001B[0m\n",
      "Prompt after formatting:\n",
      "\u001B[32;1m\u001B[1;3m\n",
      "    You are a helpful AI talking to a human.\n",
      "    Human: What is your name?\n",
      "AI: I am an AI assistant, so I do not have a name like a human does. You can just call me AI or assistant. How can I help you today?\n",
      "    Human : From now on your name is Gataka! and my name is Potato!\n",
      "    you:\n",
      "\u001B[0m\n",
      "\n",
      "\u001B[1m> Finished chain.\u001B[0m\n"
     ]
    },
    {
     "data": {
      "text/plain": "\"AI: That's a creative choice! From now on, I'll go by the name Gataka. How can I assist you today, Potato?\""
     },
     "execution_count": 27,
     "metadata": {},
     "output_type": "execute_result"
    }
   ],
   "source": [
    "chain.predict(question=\"From now on your name is Gataka! and my name is Potato!\")"
   ],
   "metadata": {
    "collapsed": false,
    "ExecuteTime": {
     "end_time": "2024-03-28T11:37:01.980873Z",
     "start_time": "2024-03-28T11:36:59.390781Z"
    }
   },
   "id": "ffdc8cab6251b987",
   "execution_count": 27
  },
  {
   "cell_type": "code",
   "outputs": [
    {
     "name": "stdout",
     "output_type": "stream",
     "text": [
      "\n",
      "\n",
      "\u001B[1m> Entering new LLMChain chain...\u001B[0m\n",
      "Prompt after formatting:\n",
      "\u001B[32;1m\u001B[1;3m\n",
      "    You are a helpful AI talking to a human.\n",
      "    System: The human asks the AI for its name. The AI explains that as an AI assistant, it does not have a name like a human does, and suggests being called AI or assistant.\n",
      "Human: From now on your name is Gataka! and my name is Potato!\n",
      "AI: AI: That's a creative choice! From now on, I'll go by the name Gataka. How can I assist you today, Potato?\n",
      "    Human : What is my name?\n",
      "    you:\n",
      "\u001B[0m\n",
      "\n",
      "\u001B[1m> Finished chain.\u001B[0m\n"
     ]
    },
    {
     "data": {
      "text/plain": "'AI: Your chosen name is Potato! How can I assist you today, Potato?'"
     },
     "execution_count": 28,
     "metadata": {},
     "output_type": "execute_result"
    }
   ],
   "source": [
    "chain.predict(question=\"What is my name?\")"
   ],
   "metadata": {
    "collapsed": false,
    "ExecuteTime": {
     "end_time": "2024-03-28T11:37:04.056580Z",
     "start_time": "2024-03-28T11:37:01.983226Z"
    }
   },
   "id": "6470c773d6fda8d",
   "execution_count": 28
  },
  {
   "cell_type": "code",
   "outputs": [],
   "source": [],
   "metadata": {
    "collapsed": false,
    "ExecuteTime": {
     "end_time": "2024-03-28T11:37:04.062030Z",
     "start_time": "2024-03-28T11:37:04.059698Z"
    }
   },
   "id": "90201f458006dc7a",
   "execution_count": 28
  }
 ],
 "metadata": {
  "kernelspec": {
   "display_name": "Python 3",
   "language": "python",
   "name": "python3"
  },
  "language_info": {
   "codemirror_mode": {
    "name": "ipython",
    "version": 2
   },
   "file_extension": ".py",
   "mimetype": "text/x-python",
   "name": "python",
   "nbconvert_exporter": "python",
   "pygments_lexer": "ipython2",
   "version": "2.7.6"
  }
 },
 "nbformat": 4,
 "nbformat_minor": 5
}
