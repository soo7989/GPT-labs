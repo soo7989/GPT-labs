{
 "cells": [
  {
   "cell_type": "code",
   "execution_count": 5,
   "id": "initial_id",
   "metadata": {
    "collapsed": true,
    "ExecuteTime": {
     "end_time": "2024-03-28T11:04:22.773830Z",
     "start_time": "2024-03-28T11:04:22.767451Z"
    }
   },
   "outputs": [],
   "source": [
    "from langchain.memory import ConversationSummaryBufferMemory\n",
    "from langchain.chat_models import ChatOpenAI"
   ]
  },
  {
   "cell_type": "code",
   "outputs": [
    {
     "data": {
      "text/plain": "{'history': [SystemMessage(content='Potato from South Korea mentions the beauty of their country. The AI expresses a desire to visit and admits not knowing how far Korea is from Argentina. The human asks how far Korea is from North Korea. The AI responds that it is super far and the human then asks how far Korea is from Argentina.'),\n  AIMessage(content=\"I don't know! Super far!\"),\n  HumanMessage(content='How far is Korea from north Korea?'),\n  AIMessage(content=\"I don't know! Super far!\")]}"
     },
     "execution_count": 8,
     "metadata": {},
     "output_type": "execute_result"
    }
   ],
   "source": [
    "llm = ChatOpenAI(temperature=0.1)\n",
    "memory = ConversationSummaryBufferMemory(\n",
    "    llm=llm,\n",
    "    max_token_limit=50,\n",
    "    return_messages=True,\n",
    ")\n",
    "\n",
    "\n",
    "def add_message(input, output):\n",
    "    memory.save_context({\"input\": input}, {\"output\": output})\n",
    "\n",
    "\n",
    "def get_history():\n",
    "    return memory.load_memory_variables({})\n",
    "\n",
    "\n",
    "add_message(\"Hi my name is Potato, I live in south Korea\", \"Wow that is so cool!\")\n",
    "add_message(\"South Korea is so pretty\", \"I wish I could go!!!\")\n",
    "add_message(\"How far is Korea from Argentina?\", \"I don't know! Super far!\")\n",
    "add_message(\"How far is Korea from north Korea?\", \"I don't know! Super far!\")\n",
    "add_message(\"How far is Korea from Argentina?\", \"I don't know! Super far!\")\n",
    "add_message(\"How far is Korea from north Korea?\", \"I don't know! Super far!\")\n",
    "\n",
    "get_history()\n"
   ],
   "metadata": {
    "collapsed": false,
    "ExecuteTime": {
     "end_time": "2024-03-28T11:04:58.387574Z",
     "start_time": "2024-03-28T11:04:52.381742Z"
    }
   },
   "id": "8dcc13f611e2890d",
   "execution_count": 8
  },
  {
   "cell_type": "code",
   "outputs": [
    {
     "data": {
      "text/plain": "{'history': [SystemMessage(content='Potato from South Korea mentions the beauty of their country. The AI expresses a desire to visit and admits not knowing how far Korea is from Argentina. The AI responds that it is super far. The human asks how far Korea is from North Korea, to which the AI replies that it is super far. The human introduces themselves as Potato from South Korea, and the AI responds with excitement at the coolness of the situation. The AI expresses a wish to go to Korea and the human asks how far Korea is from Argentina. The AI responds with uncertainty, saying it is super far. The human then asks how far Korea is from North Korea. The AI responds with \"I don\\'t know! Super far!\" when asked about the distance between Korea and Argentina.'),\n  AIMessage(content=\"I don't know! Super far!\"),\n  HumanMessage(content='How far is Korea from north Korea?'),\n  AIMessage(content=\"I don't know! Super far!\")]}"
     },
     "execution_count": 9,
     "metadata": {},
     "output_type": "execute_result"
    }
   ],
   "source": [
    "add_message(\"Hi my name is Potato, I live in south Kores\", \"Wow that is so cool!\")\n",
    "add_message(\"South Kddorea is so pretty\", \"I wish I could go!!!\")\n",
    "add_message(\"How far is Korea from Argentina?\", \"I don't know! Super far!\")\n",
    "add_message(\"How far is Korea from north Korea?\", \"I don't know! Super far!\")\n",
    "add_message(\"How far is Korea from Argentina?\", \"I don't know! Super far!\")\n",
    "add_message(\"How far is Korea from north Korea?\", \"I don't know! Super far!\")\n",
    "get_history()"
   ],
   "metadata": {
    "collapsed": false,
    "ExecuteTime": {
     "end_time": "2024-03-28T11:05:29.032252Z",
     "start_time": "2024-03-28T11:05:08.658246Z"
    }
   },
   "id": "e5844d303a2b6e01",
   "execution_count": 9
  },
  {
   "cell_type": "code",
   "outputs": [],
   "source": [],
   "metadata": {
    "collapsed": false,
    "ExecuteTime": {
     "end_time": "2024-03-28T11:04:22.810282Z",
     "start_time": "2024-03-28T11:04:22.809045Z"
    }
   },
   "id": "fa4be7a94c387f55",
   "execution_count": 7
  }
 ],
 "metadata": {
  "kernelspec": {
   "display_name": "Python 3",
   "language": "python",
   "name": "python3"
  },
  "language_info": {
   "codemirror_mode": {
    "name": "ipython",
    "version": 2
   },
   "file_extension": ".py",
   "mimetype": "text/x-python",
   "name": "python",
   "nbconvert_exporter": "python",
   "pygments_lexer": "ipython2",
   "version": "2.7.6"
  }
 },
 "nbformat": 4,
 "nbformat_minor": 5
}
