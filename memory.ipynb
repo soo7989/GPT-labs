{
 "cells": [
  {
   "cell_type": "code",
   "execution_count": 7,
   "id": "initial_id",
   "metadata": {
    "collapsed": true,
    "ExecuteTime": {
     "end_time": "2024-03-28T08:36:27.312873Z",
     "start_time": "2024-03-28T08:36:27.280695Z"
    }
   },
   "outputs": [],
   "source": [
    "from langchain.memory import  ConversationBufferMemory\n",
    "from langchain.memory import  ConversationBufferWindowMemory\n"
   ]
  },
  {
   "cell_type": "code",
   "outputs": [
    {
     "data": {
      "text/plain": "{'history': [HumanMessage(content='2'),\n  AIMessage(content='2'),\n  HumanMessage(content='3'),\n  AIMessage(content='3'),\n  HumanMessage(content='4'),\n  AIMessage(content='4'),\n  HumanMessage(content='5'),\n  AIMessage(content='5')]}"
     },
     "execution_count": 9,
     "metadata": {},
     "output_type": "execute_result"
    }
   ],
   "source": [
    "memory = ConversationBufferWindowMemory(\n",
    "\treturn_messages=True,\n",
    "\tk=4\n",
    ")\n",
    "\n",
    "memory.save_context({\"input\": \"Hello!\"}, {\"output\": \"How are you?\"})\n",
    "\n",
    "\n",
    "def add_message(input, output):\n",
    "\tmemory.save_context({\"input\": input}, {\"output\": output})\n",
    "\t\n",
    "add_message(\"Hello\", \"World\")\n",
    "add_message(2, 2)\n",
    "add_message(3, 3)\n",
    "add_message(4, 4)\n",
    "add_message(5, 5)\n",
    "memory.load_memory_variables({})\n",
    "\n"
   ],
   "metadata": {
    "collapsed": false,
    "ExecuteTime": {
     "end_time": "2024-03-28T08:36:44.144495Z",
     "start_time": "2024-03-28T08:36:44.120043Z"
    }
   },
   "id": "8dcc13f611e2890d",
   "execution_count": 9
  },
  {
   "cell_type": "code",
   "outputs": [],
   "source": [],
   "metadata": {
    "collapsed": false,
    "ExecuteTime": {
     "end_time": "2024-03-28T08:36:27.332274Z",
     "start_time": "2024-03-28T08:36:27.330578Z"
    }
   },
   "id": "61367938c4a482c5",
   "execution_count": 8
  }
 ],
 "metadata": {
  "kernelspec": {
   "display_name": "Python 3",
   "language": "python",
   "name": "python3"
  },
  "language_info": {
   "codemirror_mode": {
    "name": "ipython",
    "version": 2
   },
   "file_extension": ".py",
   "mimetype": "text/x-python",
   "name": "python",
   "nbconvert_exporter": "python",
   "pygments_lexer": "ipython2",
   "version": "2.7.6"
  }
 },
 "nbformat": 4,
 "nbformat_minor": 5
}
