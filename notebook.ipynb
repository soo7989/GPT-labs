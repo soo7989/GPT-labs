{
 "cells": [
  {
   "cell_type": "code",
   "execution_count": 5,
   "id": "initial_id",
   "metadata": {
    "collapsed": true,
    "ExecuteTime": {
     "end_time": "2024-03-25T09:33:01.340821Z",
     "start_time": "2024-03-25T09:32:58.068808Z"
    }
   },
   "outputs": [
    {
     "data": {
      "text/plain": "'The distance between Seoul and Yangju is approximately 40 kilometers (25 miles) by road.'"
     },
     "execution_count": 5,
     "metadata": {},
     "output_type": "execute_result"
    }
   ],
   "source": [
    "from langchain.chat_models import ChatOpenAI\n",
    "from langchain.prompts import PromptTemplate, ChatPromptTemplate\n",
    "\n",
    "chat = ChatOpenAI(temperature=0.1)\n",
    "\n",
    "template = PromptTemplate.from_template(\n",
    "    \"What is the distance between {city_a} and {city_b}.\"\n",
    ")\n",
    "prompt = template.format(\n",
    "    city_a=\"seoul\",\n",
    "    city_b=\"yangju\"\n",
    ")\n",
    "chat.predict(prompt)"
   ]
  },
  {
   "cell_type": "code",
   "outputs": [
    {
     "data": {
      "text/plain": "AIMessage(content='The distance between Seoul and Suwon is approximately 30 kilometers. My name is Platon.')"
     },
     "execution_count": 16,
     "metadata": {},
     "output_type": "execute_result"
    }
   ],
   "source": [
    "template = ChatPromptTemplate.from_messages(\n",
    "    [\n",
    "        (\"system\", \"you're a geography expert. And you only reply in {language}\",),\n",
    "        (\"ai\", \"Ciao, mi chiamo {name}!\",),\n",
    "        (\"human\", \"What is the distance between {city_a} and {city_b}. Also, what is your name?\")\n",
    "    ]\n",
    ")\n",
    "\n",
    "prompt = template.format_messages(\n",
    "    language=\"english\", name=\"platon\", city_a=\"seoul\", city_b=\"suwon\"\n",
    ")\n",
    "\n",
    "chat.predict_messages(prompt)"
   ],
   "metadata": {
    "collapsed": false,
    "ExecuteTime": {
     "end_time": "2024-03-25T09:43:20.094783Z",
     "start_time": "2024-03-25T09:43:18.476305Z"
    }
   },
   "id": "3da1e87302aa46f",
   "execution_count": 16
  },
  {
   "cell_type": "code",
   "outputs": [],
   "source": [],
   "metadata": {
    "collapsed": false
   },
   "id": "26d8c95cd7565947"
  }
 ],
 "metadata": {
  "kernelspec": {
   "display_name": "Python 3",
   "language": "python",
   "name": "python3"
  },
  "language_info": {
   "codemirror_mode": {
    "name": "ipython",
    "version": 2
   },
   "file_extension": ".py",
   "mimetype": "text/x-python",
   "name": "python",
   "nbconvert_exporter": "python",
   "pygments_lexer": "ipython2",
   "version": "2.7.6"
  }
 },
 "nbformat": 4,
 "nbformat_minor": 5
}
