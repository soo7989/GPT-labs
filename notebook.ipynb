{
 "cells": [
  {
   "cell_type": "code",
   "execution_count": 2,
   "id": "initial_id",
   "metadata": {
    "collapsed": true,
    "ExecuteTime": {
     "end_time": "2024-03-20T10:17:38.623Z",
     "start_time": "2024-03-20T10:17:35.027703Z"
    }
   },
   "outputs": [
    {
     "data": {
      "text/plain": "'현재까지 발견된 행성은 수백억 개 이상이 있습니다. 그러나 인류가 직접적으로 관측할 수 있는 행성은 태양계 내의 8개 행성과 몇몇 외계 행성들뿐입니다. 외계 행성은 계속 발견되고 있으며, 추정에 따르면 은하계 전체에는 수십억에서 수조에 이를 정도로 많은 행성들이 존재할 것으로 예상됩니다.'"
     },
     "execution_count": 2,
     "metadata": {},
     "output_type": "execute_result"
    }
   ],
   "source": [
    "from langchain.chat_models import ChatOpenAI\n",
    "\n",
    "chat = ChatOpenAI()\n",
    "\n",
    "a = chat.predict(\"얼마나 많은 행성이 있어?\")\n",
    "\n",
    "a\n"
   ]
  },
  {
   "cell_type": "code",
   "outputs": [],
   "source": [],
   "metadata": {
    "collapsed": false
   },
   "id": "e21cf2fad55aeecf"
  }
 ],
 "metadata": {
  "kernelspec": {
   "display_name": "Python 3",
   "language": "python",
   "name": "python3"
  },
  "language_info": {
   "codemirror_mode": {
    "name": "ipython",
    "version": 2
   },
   "file_extension": ".py",
   "mimetype": "text/x-python",
   "name": "python",
   "nbconvert_exporter": "python",
   "pygments_lexer": "ipython2",
   "version": "2.7.6"
  }
 },
 "nbformat": 4,
 "nbformat_minor": 5
}
