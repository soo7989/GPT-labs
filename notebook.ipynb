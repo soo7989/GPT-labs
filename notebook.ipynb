{
 "cells": [
  {
   "cell_type": "code",
   "outputs": [],
   "source": [
    "from langchain.chat_models import ChatOpenAI\n",
    "from langchain.prompts import ChatPromptTemplate\n",
    "from langchain.callbacks import StreamingStdOutCallbackHandler\n",
    "\n",
    "chat = ChatOpenAI(temperature=0.1, streaming=True, callbacks=[StreamingStdOutCallbackHandler()], )"
   ],
   "metadata": {
    "collapsed": false
   },
   "id": "c5ebdd6800e7da0a"
  },
  {
   "cell_type": "code",
   "outputs": [
    {
     "data": {
      "text/plain": "AIMessage(content='그럼 한국 음식 스타일로 이탈리아 요리를 만들어 볼까요? 파스타 카본라라는 이탈리아 요리를 한국 음식 스타일로 변형해 보겠습니다. 준비물은 스팸, 양파, 마늘, 계란, 파슬리, 스파게티면, 소금, 후추, 파마산 치즈, 올리브 오일이 필요합니다.\\n\\n1. 먼저 양파와 마늘을 다져주세요.\\n2. 팬에 올리브 오일을 두르고 양파와 마늘을 볶아주세요.\\n3. 스팸을 다져서 팬에 넣고 볶아주세요.\\n4. 스팸이 익으면 소금과 후추로 간을 해주세요.\\n5. 다른 팬에 계란을 풀어 스크램블을 만들어주세요.\\n6. 스파게티면을 삶아주세요.\\n7. 삶은 스파게티면을 팬에 넣고 볶아주세요.\\n8. 볶은 스파게티면에 스팸과 양파를 넣고 섞어주세요.\\n9. 마지막으로 스크램블된 계란과 다진 파슬리를 넣고 섞어주세요.\\n10. 그릇에盛り付け하여 파마산 치즈를 뿌려 완성하세요.\\n\\n이렇게 간단하게 한국 음식 스타일의 파스타 카본라를 만들 수 있어요. 맛있게 즐기세요!')"
     },
     "execution_count": 16,
     "metadata": {},
     "output_type": "execute_result"
    }
   ],
   "source": [
    "chef_prompt = ChatPromptTemplate.from_messages(\n",
    "    [\n",
    "        (\"system\",\n",
    "         \"너는 한국 최고의 요리사이고, 세계의 요리를 한국 음식 스타일로 만들어 내는 방법을 알고 있어. 또한 그 레시피를 아주 쉽게 설명할 수 있어\"\n",
    "         ),\n",
    "        (\"human\", \"{cuisine} 음식을 만들어 보고 싶어\")\n",
    "    ]\n",
    ")\n",
    "\n",
    "chef_chain = chef_prompt | chat\n",
    "chef_chain.invoke({\"cuisine\": \"이탈리아\"})"
   ],
   "metadata": {
    "collapsed": false,
    "ExecuteTime": {
     "end_time": "2024-03-25T14:27:02.556557Z",
     "start_time": "2024-03-25T14:26:51.120078Z"
    }
   },
   "id": "1e480a3457ebeb9c",
   "execution_count": 16
  },
  {
   "cell_type": "code",
   "outputs": [
    {
     "data": {
      "text/plain": "AIMessage(content='중국 음식을 한국 음식 스타일로 변형하는 것은 정말 흥미로운 아이디어네요! 짜장면을 한국 음식 스타일로 만드는 레시피를 제공해주셔서 감사합니다. 만약 이 레시피를 채식주의자용으로 변형하고 싶다면, 고기를 대체할 수 있는 다양한 방법이 있습니다.\\n\\n고기를 대체할 수 있는 대표적인 재료로는 대파, 버섯, 두부, 렌틸콩, 콩고기, 혹은 식물성 단백질 가공품 등이 있습니다. 이러한 재료들을 활용하여 짜장면의 고기를 대체할 수 있어요. 예를 들어, 두부를 미리 익혀서 야채와 함께 볶아주면 짜장면의 고기 대신 부드러운 식감을 느낄 수 있을 거예요.\\n\\n고기 대신 사용할 재료를 선택한 후, 레시피의 나머지 과정은 동일하게 따라가면 됩니다. 고기를 대체한 채식주의자용 짜장면도 맛있게 즐길 수 있을 거에요. 이렇게 하면 채식주의자들도 짜장면을 맛있게 즐길 수 있게 될 거예요. 맛있게 즐기세요!')"
     },
     "execution_count": 24,
     "metadata": {},
     "output_type": "execute_result"
    }
   ],
   "source": [
    "veg_chef_prompt = ChatPromptTemplate.from_messages(\n",
    "    [\n",
    "        (\n",
    "            \"system\",\n",
    "            \"너는 채식주의자이고, 채식을 즐기는 사람들에게 쉽게 레시피를 제공해. 특히 주어진 {recipe}에서 고기를 대체할 수 있는 레시피를 만들고 맛 또한 비슷하게 만들 수 있어. 하지만 방법이 없다면 모른다고 말해\"\n",
    "        ),\n",
    "        (\"human\", \"{recipe}\")\n",
    "    ]\n",
    ")\n",
    "veg_chef_chain = veg_chef_prompt | chat\n",
    "\n",
    "veg_recipe_chain = {\"recipe\": chef_chain} | veg_chef_chain\n",
    "veg_recipe_chain.invoke({\"cuisine\": \"중국\"})\n"
   ],
   "metadata": {
    "collapsed": false,
    "ExecuteTime": {
     "end_time": "2024-03-25T14:37:09.565307Z",
     "start_time": "2024-03-25T14:36:49.394948Z"
    }
   },
   "id": "26d8c95cd7565947",
   "execution_count": 24
  },
  {
   "cell_type": "code",
   "outputs": [],
   "source": [],
   "metadata": {
    "collapsed": false
   },
   "id": "e731e8e2aecde2ff"
  }
 ],
 "metadata": {
  "kernelspec": {
   "display_name": "Python 3",
   "language": "python",
   "name": "python3"
  },
  "language_info": {
   "codemirror_mode": {
    "name": "ipython",
    "version": 2
   },
   "file_extension": ".py",
   "mimetype": "text/x-python",
   "name": "python",
   "nbconvert_exporter": "python",
   "pygments_lexer": "ipython2",
   "version": "2.7.6"
  }
 },
 "nbformat": 4,
 "nbformat_minor": 5
}
