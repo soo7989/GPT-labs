{
 "cells": [
  {
   "cell_type": "code",
   "execution_count": 7,
   "id": "initial_id",
   "metadata": {
    "collapsed": true,
    "ExecuteTime": {
     "end_time": "2024-03-25T04:34:38.771325Z",
     "start_time": "2024-03-25T04:34:37.479802Z"
    }
   },
   "outputs": [
    {
     "data": {
      "text/plain": "AIMessage(content='Hello! The distance between Mexico and Thailand is approximately 16,000 kilometers. My name is Paolo.')"
     },
     "execution_count": 7,
     "metadata": {},
     "output_type": "execute_result"
    }
   ],
   "source": [
    "from langchain.chat_models import ChatOpenAI\n",
    "from langchain.schema import HumanMessage, AIMessage, SystemMessage\n",
    "\n",
    "chat = ChatOpenAI(temperature=0.1)\n",
    "messages = [\n",
    "    SystemMessage(\n",
    "        content=\"you're a geography expert. And you only relply in English.\"\n",
    "    ),\n",
    "    \n",
    "    AIMessage(\n",
    "        content=\"Ciao, mi chiamo Paolo!\"\n",
    "    ),\n",
    "    \n",
    "    HumanMessage(\n",
    "        content =\"What is the distance between Mexico and Thailand. Also, what is your name?\"\n",
    "    )\n",
    "]\n",
    "chat.predict_messages(messages)\n"
   ]
  },
  {
   "cell_type": "code",
   "outputs": [],
   "source": [],
   "metadata": {
    "collapsed": false
   },
   "id": "cfe4b336823c4e18"
  }
 ],
 "metadata": {
  "kernelspec": {
   "display_name": "Python 3",
   "language": "python",
   "name": "python3"
  },
  "language_info": {
   "codemirror_mode": {
    "name": "ipython",
    "version": 2
   },
   "file_extension": ".py",
   "mimetype": "text/x-python",
   "name": "python",
   "nbconvert_exporter": "python",
   "pygments_lexer": "ipython2",
   "version": "2.7.6"
  }
 },
 "nbformat": 4,
 "nbformat_minor": 5
}
