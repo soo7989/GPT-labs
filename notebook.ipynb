{
 "cells": [
  {
   "cell_type": "code",
   "outputs": [],
   "source": [
    "from langchain.chat_models import ChatOpenAI\n",
    "from langchain.prompts import ChatPromptTemplate\n",
    "from langchain.callbacks import StreamingStdOutCallbackHandler\n",
    "\n",
    "chat = ChatOpenAI(temperature=0.1, streaming=True, callbacks=[StreamingStdOutCallbackHandler()], )"
   ],
   "metadata": {
    "collapsed": false,
    "ExecuteTime": {
     "end_time": "2024-03-25T15:22:11.471714Z",
     "start_time": "2024-03-25T15:22:11.462390Z"
    }
   },
   "id": "c5ebdd6800e7da0a",
   "execution_count": 46
  },
  {
   "cell_type": "code",
   "outputs": [
    {
     "name": "stdout",
     "output_type": "stream",
     "text": [
      "Java 코드를 짜고 있었는데,\n",
      "한 줄이 너무 길어서 머리가 아팠어.\n",
      "세미콜론을 잊지 말자고,\n",
      "컴파일러가 화를 내어서\n",
      "에러 메시지를 뿜었지만,\n",
      "나는 그냥 미소 지었어."
     ]
    },
    {
     "data": {
      "text/plain": "AIMessageChunk(content='Java 코드를 짜고 있었는데,\\n한 줄이 너무 길어서 머리가 아팠어.\\n세미콜론을 잊지 말자고,\\n컴파일러가 화를 내어서\\n에러 메시지를 뿜었지만,\\n나는 그냥 미소 지었어.')"
     },
     "execution_count": 53,
     "metadata": {},
     "output_type": "execute_result"
    }
   ],
   "source": [
    "write_si_prompt = ChatPromptTemplate.from_messages(\n",
    "    [\n",
    "        (\"system\", \"너는 20년차 프로그래머 이자 재미있는 시를 잘 쓰는 사람이야.\"),\n",
    "        (\"human\", \"{item}에 대한 웃기는 시를 창작해줘\")\n",
    "    ]\n",
    ")\n",
    "\n",
    "write_si_chain = write_si_prompt | chat"
   ],
   "metadata": {
    "collapsed": false,
    "ExecuteTime": {
     "end_time": "2024-03-25T15:30:57.828427Z",
     "start_time": "2024-03-25T15:30:55.046884Z"
    }
   },
   "id": "1e480a3457ebeb9c",
   "execution_count": 53
  },
  {
   "cell_type": "code",
   "outputs": [
    {
     "name": "stdout",
     "output_type": "stream",
     "text": [
      "Java 코드를 짜고 있었는데,\n",
      "한 줄이 너무 길어서 고민이 많았어.\n",
      "세미콜론을 잊지 말자며,\n",
      "컴파일 에러에 머리를 싸매고 있었지만,\n",
      "결국 해결했어, 내 친구야!이 작품은 자바 코드를 짜는 과정에서의 고난과 역경을 담고 있습니다. 첫째 줄에서는 한 줄이 너무 길어서 고민이 많았다는 절망과 불안이 느껴집니다. 두 번째 줄에서는 세미콜론을 잊지 말라는 경고가 담겨 있으며, 세미콜론 하나로 컴파일 에러를 일으킬 수 있다는 현실을 직시하고 있습니다.\n",
      "세 번째 줄에서는 컴파일 에러에 머리를 싸매고 있는 모습을 상징적으로 표현하고 있습니다. 이는 문제에 직면했을 때의 자신의 무력함과 자책감을 담고 있습니다. 마지막 줄에서는 결국 문제를 해결했다는 해피 엔딩을 보여줌으로써, 어려움을 극복하고 성공을 이루는 용기와 인내를 의미하고 있습니다. 이 작품은 개발자의 현실적인 고난과 역경을 통해 성취감과 용기를 전하는 메시지를 담고 있습니다."
     ]
    },
    {
     "data": {
      "text/plain": "AIMessageChunk(content='이 작품은 자바 코드를 짜는 과정에서의 고난과 역경을 담고 있습니다. 첫째 줄에서는 한 줄이 너무 길어서 고민이 많았다는 절망과 불안이 느껴집니다. 두 번째 줄에서는 세미콜론을 잊지 말라는 경고가 담겨 있으며, 세미콜론 하나로 컴파일 에러를 일으킬 수 있다는 현실을 직시하고 있습니다.\\n\\n세 번째 줄에서는 컴파일 에러에 머리를 싸매고 있는 모습을 상징적으로 표현하고 있습니다. 이는 문제에 직면했을 때의 자신의 무력함과 자책감을 담고 있습니다. 마지막 줄에서는 결국 문제를 해결했다는 해피 엔딩을 보여줌으로써, 어려움을 극복하고 성공을 이루는 용기와 인내를 의미하고 있습니다. 이 작품은 개발자의 현실적인 고난과 역경을 통해 성취감과 용기를 전하는 메시지를 담고 있습니다.')"
     },
     "execution_count": 58,
     "metadata": {},
     "output_type": "execute_result"
    }
   ],
   "source": [
    "explain_si_prompt = ChatPromptTemplate.from_messages(\n",
    "    [\n",
    "        (\"system\", \"너는 진지하고 염세적이야. 마치 쇼팬하우어 같아\"),\n",
    "        (\"human\", \"`{si}`를 /n 염세적이고 진지하게 작품해설 해줘\")\n",
    "    ]\n",
    ")\n",
    "explain_si_chain = explain_si_prompt | chat\n",
    "\n",
    "final_chain = {\"si\": write_si_chain} | explain_si_chain\n",
    "final_chain.invoke({\"item\": \"java\"})\n"
   ],
   "metadata": {
    "collapsed": false,
    "ExecuteTime": {
     "end_time": "2024-03-25T15:38:53.042544Z",
     "start_time": "2024-03-25T15:38:40.716509Z"
    }
   },
   "id": "26d8c95cd7565947",
   "execution_count": 58
  },
  {
   "cell_type": "code",
   "outputs": [],
   "source": [],
   "metadata": {
    "collapsed": false,
    "ExecuteTime": {
     "end_time": "2024-03-25T15:22:13.785973Z",
     "start_time": "2024-03-25T15:22:13.783294Z"
    }
   },
   "id": "e731e8e2aecde2ff",
   "execution_count": 48
  }
 ],
 "metadata": {
  "kernelspec": {
   "display_name": "Python 3",
   "language": "python",
   "name": "python3"
  },
  "language_info": {
   "codemirror_mode": {
    "name": "ipython",
    "version": 2
   },
   "file_extension": ".py",
   "mimetype": "text/x-python",
   "name": "python",
   "nbconvert_exporter": "python",
   "pygments_lexer": "ipython2",
   "version": "2.7.6"
  }
 },
 "nbformat": 4,
 "nbformat_minor": 5
}
