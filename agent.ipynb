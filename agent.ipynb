{
 "cells": [
  {
   "cell_type": "code",
   "execution_count": 9,
   "id": "initial_id",
   "metadata": {
    "collapsed": true,
    "ExecuteTime": {
     "end_time": "2024-04-11T17:51:07.654527Z",
     "start_time": "2024-04-11T17:51:07.637767Z"
    }
   },
   "outputs": [],
   "source": [
    "from typing import Type\n",
    "from pydantic import BaseModel, Field\n",
    "from langchain.chat_models import ChatOpenAI\n",
    "from langchain.tools import BaseTool\n",
    "from langchain.agents import initialize_agent, AgentType\n",
    "from langchain.utilities import DuckDuckGoSearchAPIWrapper, WikipediaAPIWrapper\n",
    "\n",
    "\n",
    "llm = ChatOpenAI(\n",
    "    temperature=0.1,\n",
    "    model_name=\"gpt-3.5-turbo\"\n",
    ")"
   ]
  },
  {
   "cell_type": "code",
   "outputs": [
    {
     "name": "stdout",
     "output_type": "stream",
     "text": [
      "\n",
      "\n",
      "\u001B[1m> Entering new AgentExecutor chain...\u001B[0m\n",
      "\u001B[32;1m\u001B[1;3m\n",
      "Invoking: `WikiSearchTool` with `{'query': 'XZ backdoor'}`\n",
      "\n",
      "\n",
      "\u001B[0m\u001B[33;1m\u001B[1;3mPage: XZ Utils backdoor\n",
      "Summary: On 29 March 2024, software developer Andres Freund reported that he had found a maliciously introduced backdoor in the Linux utility xz within the liblzma library in versions 5.6.0 and 5.6.1 released in February 2024.While xz is commonly present in most Linux distributions, the backdoor only targeted Debian- and RPM-based systems running on the x86-64 architecture. At the time of discovery the backdoored version had not yet been widely deployed to production systems, but was present in development versions of major distributions.The backdoor gives an attacker who possesses a specific Ed448 private key remote code execution capabilities on the affected Linux system. The issue has been assigned a CVSS score of 10.0, the highest possible score.\n",
      "\n",
      "Page: XZ Utils\n",
      "Summary: XZ Utils (previously LZMA Utils) is a set of free software command-line lossless data compressors, including the programs lzma and xz, for Unix-like operating systems and, from version 5.0 onwards, Microsoft Windows. For compression/decompression the Lempel–Ziv–Markov chain algorithm (LZMA) is used. XZ Utils started as a Unix port of Igor Pavlov's LZMA-SDK that has been adapted to fit seamlessly into Unix environments and their usual structure and behavior.\n",
      "\n",
      "Page: Backdoor (computing)\n",
      "Summary: A backdoor is a typically covert method of bypassing normal authentication or encryption in a computer, product, embedded device (e.g. a home router), or its embodiment (e.g. part of a cryptosystem, algorithm, chipset, or even a \"homunculus computer\"—a tiny computer-within-a-computer such as that found in Intel's AMT technology). Backdoors are most often used for securing remote access to a computer, or obtaining access to plaintext in cryptosystems. From there it may be used to gain access to privileged information like passwords, corrupt or delete data on hard drives, or transfer information within autoschediastic networks.\n",
      "A backdoor may take the form of a hidden part of a program, a separate program (e.g. Back Orifice may subvert the system through a rootkit), code in the firmware of the hardware, or parts of an operating system such as Windows. Trojan horses can be used to create vulnerabilities in a device. A Trojan horse may appear to be an entirely legitimate program, but when executed, it triggers an activity that may install a backdoor. Although some are secretly installed, other backdoors are deliberate and widely known. These kinds of backdoors have \"legitimate\" uses such as providing the manufacturer with a way to restore user passwords.\n",
      "Many systems that store information within the cloud fail to create accurate security measures. If many systems are connected within the cloud, hackers can gain access to all other platforms through the most vulnerable system. Default passwords (or other default credentials) can function as backdoors if they are not changed by the user. Some debugging features can also act as backdoors if they are not removed in the release version. In 1993, the United States government attempted to deploy an encryption system, the Clipper chip, with an explicit backdoor for law enforcement and national security access. The chip was unsuccessful.Recent proposals to counter backdoors include creating a database of backdoors' triggers and then using neural networks to detect them.\u001B[0m\u001B[32;1m\u001B[1;3mI found information about the XZ backdoor. On 29 March 2024, software developer Andres Freund reported that a malicious backdoor was found in the Linux utility xz within the liblzma library in versions 5.6.0 and 5.6.1 released in February 2024. The backdoor targeted Debian- and RPM-based systems running on the x86-64 architecture. It gives an attacker remote code execution capabilities on the affected Linux system. The issue has been assigned a CVSS score of 10.0, the highest possible score.\n",
      "\n",
      "XZ Utils is a set of free software command-line lossless data compressors that includes programs like lzma and xz. It uses the Lempel–Ziv–Markov chain algorithm (LZMA) for compression/decompression.\n",
      "\n",
      "A backdoor is a covert method of bypassing normal authentication or encryption in a computer system. It can be used for securing remote access or obtaining access to plaintext in cryptosystems. Backdoors can take various forms, such as hidden parts of a program, separate programs, firmware code, or parts of an operating system.\n",
      "\n",
      "If you need more information or have any specific questions, feel free to ask!\u001B[0m\n",
      "\n",
      "\u001B[1m> Finished chain.\u001B[0m\n"
     ]
    }
   ],
   "source": [
    "class SearchToolArgsSchema(BaseModel):\n",
    "    query: str = Field(\n",
    "        description=\"The query you will search for.Example query: Research about the open AI\"\n",
    "    )\n",
    "\n",
    "class DuckSearchTool(BaseTool):\n",
    "    name = \"DuckSearchTool\"\n",
    "    description = \"\"\"\n",
    "    Use this tool.\n",
    "    Takes a query as an argument.\n",
    "    \"\"\"\n",
    "    args_schema: Type[SearchToolArgsSchema] = SearchToolArgsSchema\n",
    "\n",
    "    def _run(self, query: str):\n",
    "        ddg = DuckDuckGoSearchAPIWrapper()\n",
    "        return ddg.run(query)\n",
    "    \n",
    "class WikiSearchTool(BaseTool):\n",
    "    name = \"WikiSearchTool\"\n",
    "    description = \"\"\"\n",
    "    Use this tool.\n",
    "    Takes a query as an argument.\n",
    "    \"\"\"\n",
    "    args_schema: Type[SearchToolArgsSchema] = SearchToolArgsSchema\n",
    "\n",
    "    def _run(self, query: str):\n",
    "        wiki = WikipediaAPIWrapper()\n",
    "        return wiki.run(query)\n",
    "\n",
    "searchAgent= initialize_agent(\n",
    "\tllm = llm,\n",
    "\tverbose = True,\n",
    "    agent=AgentType.OPENAI_FUNCTIONS,\n",
    "    handle_parsing_errors=True,\n",
    "    tools=[\n",
    "        DuckSearchTool(),\n",
    "        WikiSearchTool(),\n",
    "    ],\n",
    ")\n",
    "\n",
    "prompt = (\"Research about the XZ backdoor\")\n",
    "\n",
    "result = searchAgent.invoke(prompt)\n",
    "\n",
    "with open(\"search_result.txt\", \"w\", encoding=\"utf-8\") as file:\n",
    "    file.write(str(result))"
   ],
   "metadata": {
    "collapsed": false,
    "ExecuteTime": {
     "end_time": "2024-04-11T17:51:18.821492Z",
     "start_time": "2024-04-11T17:51:07.658534Z"
    }
   },
   "id": "c617fc4809fd6fff",
   "execution_count": 10
  },
  {
   "cell_type": "code",
   "outputs": [],
   "source": [],
   "metadata": {
    "collapsed": false,
    "ExecuteTime": {
     "end_time": "2024-04-11T17:51:18.824214Z",
     "start_time": "2024-04-11T17:51:18.822546Z"
    }
   },
   "id": "a3d4ea48f2477266",
   "execution_count": 10
  }
 ],
 "metadata": {
  "kernelspec": {
   "display_name": "Python 3",
   "language": "python",
   "name": "python3"
  },
  "language_info": {
   "codemirror_mode": {
    "name": "ipython",
    "version": 2
   },
   "file_extension": ".py",
   "mimetype": "text/x-python",
   "name": "python",
   "nbconvert_exporter": "python",
   "pygments_lexer": "ipython2",
   "version": "2.7.6"
  }
 },
 "nbformat": 4,
 "nbformat_minor": 5
}
