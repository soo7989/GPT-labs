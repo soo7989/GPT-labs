{
 "cells": [
  {
   "cell_type": "code",
   "execution_count": 11,
   "id": "b28892725131cbbc",
   "metadata": {
    "collapsed": false,
    "ExecuteTime": {
     "end_time": "2024-04-11T05:02:21.558825Z",
     "start_time": "2024-04-11T05:02:21.546969Z"
    }
   },
   "outputs": [],
   "source": [
    "from langchain.chat_models import ChatOpenAI\n",
    "from langchain.tools import StructuredTool, Tool\n",
    "from langchain.agents import initialize_agent, AgentType\n",
    "\n",
    "llm = ChatOpenAI(temperature=0.1)\n",
    "\n"
   ]
  },
  {
   "cell_type": "code",
   "outputs": [],
   "source": [
    "# AgentType.STRUCTURED_CHAT_ZERO_SHOT_REACT_DESCRIPTION,\n",
    "\n",
    "def plus(a, b):\n",
    "    return a + b\n",
    "\n",
    "\n",
    "agent = initialize_agent(\n",
    "    llm=llm,\n",
    "    verbose=True,\n",
    "    agent=AgentType.STRUCTURED_CHAT_ZERO_SHOT_REACT_DESCRIPTION,\n",
    "    tools=[\n",
    "        StructuredTool.from_function(\n",
    "            func=plus,\n",
    "            name=\"Sum Calculator\",\n",
    "            description=\"Use this to perform sums of two numbers. This tool take two arguments, both  should be numbers.\"\n",
    "        ), \n",
    "    ],\n",
    ")\n",
    "prompt = \"Cost of $355.39 + $924.87 + $721.2 + $1940.29 + $573.63 + $65.72 + $35.00 + $552.00 + $76.16 + $29.12\"\n",
    "\n",
    "agent.invoke(prompt)"
   ],
   "metadata": {
    "collapsed": true
   },
   "id": "initial_id",
   "execution_count": null
  },
  {
   "cell_type": "code",
   "outputs": [
    {
     "name": "stdout",
     "output_type": "stream",
     "text": [
      "\n",
      "\n",
      "\u001B[1m> Entering new AgentExecutor chain...\u001B[0m\n",
      "\u001B[32;1m\u001B[1;3mI should use the Sum Calculator to add up all the given numbers.\n",
      "Action: Sum Calculator\n",
      "Action Input: 355.39,924.87\u001B[0m\n",
      "Observation: \u001B[36;1m\u001B[1;3m1280.26\u001B[0m\n",
      "Thought:\u001B[32;1m\u001B[1;3mI need to continue adding the remaining numbers to the sum.\n",
      "Action: Sum Calculator\n",
      "Action Input: 1280.26,721.2\u001B[0m\n",
      "Observation: \u001B[36;1m\u001B[1;3m2001.46\u001B[0m\n",
      "Thought:\u001B[32;1m\u001B[1;3mI should keep adding the remaining numbers to the sum.\n",
      "Action: Sum Calculator\n",
      "Action Input: 2001.46,1940.29\u001B[0m\n",
      "Observation: \u001B[36;1m\u001B[1;3m3941.75\u001B[0m\n",
      "Thought:\u001B[32;1m\u001B[1;3mI need to keep adding the remaining numbers to the sum.\n",
      "Action: Sum Calculator\n",
      "Action Input: 3941.75,573.63\u001B[0m\n",
      "Observation: \u001B[36;1m\u001B[1;3m4515.38\u001B[0m\n",
      "Thought:\u001B[32;1m\u001B[1;3mI should continue adding the remaining numbers to the sum.\n",
      "Action: Sum Calculator\n",
      "Action Input: 4515.38,65.72\u001B[0m\n",
      "Observation: \u001B[36;1m\u001B[1;3m4581.1\u001B[0m\n",
      "Thought:\u001B[32;1m\u001B[1;3mI need to add the last few numbers to the sum.\n",
      "Action: Sum Calculator\n",
      "Action Input: 4581.1,35.00\u001B[0m\n",
      "Observation: \u001B[36;1m\u001B[1;3m4616.1\u001B[0m\n",
      "Thought:\u001B[32;1m\u001B[1;3mI should add the last two numbers to the sum to get the final answer.\n",
      "Action: Sum Calculator\n",
      "Action Input: 4616.1,552.00\u001B[0m\n",
      "Observation: \u001B[36;1m\u001B[1;3m5168.1\u001B[0m\n",
      "Thought:\u001B[32;1m\u001B[1;3mI now know the final answer\n",
      "Final Answer: $5168.10\u001B[0m\n",
      "\n",
      "\u001B[1m> Finished chain.\u001B[0m\n"
     ]
    },
    {
     "data": {
      "text/plain": "{'input': 'Cost of $355.39 + $924.87 + $721.2 + $1940.29 + $573.63 + $65.72 + $35.00 + $552.00 + $76.16 + $29.12',\n 'output': '$5168.10'}"
     },
     "execution_count": 13,
     "metadata": {},
     "output_type": "execute_result"
    }
   ],
   "source": [
    "# AgentType.ZERO_SHOT_REACT_DESCRIPTION\n",
    "\n",
    "def plus(inputs):\n",
    "    a, b = inputs.split(\",\")\n",
    "    return float(a) + float(b)\n",
    "\n",
    "\n",
    "agent = initialize_agent(\n",
    "    llm=llm,\n",
    "    verbose=True,\n",
    "    agent=AgentType.ZERO_SHOT_REACT_DESCRIPTION,\n",
    "    handle_paesing_error=True,\n",
    "    tools=[\n",
    "        Tool.from_function(\n",
    "            func=plus,\n",
    "            name=\"Sum Calculator\",\n",
    "            description=\"Use this to perform sums of two numbers. Use this tool by sending a pair of number separated by a comma.\\nExample:1,2\"\n",
    "        ),\n",
    "    ],\n",
    ")\n",
    "prompt = \"Cost of $355.39 + $924.87 + $721.2 + $1940.29 + $573.63 + $65.72 + $35.00 + $552.00 + $76.16 + $29.12\"\n",
    "\n",
    "agent.invoke(prompt)"
   ],
   "metadata": {
    "collapsed": false,
    "ExecuteTime": {
     "end_time": "2024-04-11T05:04:42.354929Z",
     "start_time": "2024-04-11T05:04:32.396658Z"
    }
   },
   "id": "dd75ba4a97e12c7b",
   "execution_count": 13
  },
  {
   "cell_type": "code",
   "outputs": [],
   "source": [],
   "metadata": {
    "collapsed": false
   },
   "id": "d76280691e26c493"
  }
 ],
 "metadata": {
  "kernelspec": {
   "display_name": "Python 3",
   "language": "python",
   "name": "python3"
  },
  "language_info": {
   "codemirror_mode": {
    "name": "ipython",
    "version": 2
   },
   "file_extension": ".py",
   "mimetype": "text/x-python",
   "name": "python",
   "nbconvert_exporter": "python",
   "pygments_lexer": "ipython2",
   "version": "2.7.6"
  }
 },
 "nbformat": 4,
 "nbformat_minor": 5
}
