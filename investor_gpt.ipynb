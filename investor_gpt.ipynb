{
 "cells": [
  {
   "cell_type": "code",
   "execution_count": 1,
   "id": "b28892725131cbbc",
   "metadata": {
    "collapsed": false,
    "ExecuteTime": {
     "end_time": "2024-04-11T09:43:49.086098Z",
     "start_time": "2024-04-11T09:43:48.124797Z"
    }
   },
   "outputs": [],
   "source": [
    "from typing import Any, Type\n",
    "from pydantic import BaseModel, Field\n",
    "from langchain.chat_models import ChatOpenAI\n",
    "from langchain.tools import BaseTool\n",
    "from langchain.agents import initialize_agent, AgentType\n",
    "from langchain.utilities import DuckDuckGoSearchAPIWrapper\n",
    "\n",
    "llm = ChatOpenAI(temperature=0.1)"
   ]
  },
  {
   "cell_type": "code",
   "outputs": [
    {
     "name": "stdout",
     "output_type": "stream",
     "text": [
      "\n",
      "\n",
      "\u001B[1m> Entering new AgentExecutor chain...\u001B[0m\n",
      "\u001B[32;1m\u001B[1;3m\n",
      "Invoking: `StockMarketSymbolSearchTool` with `{'query': 'Cloudflare stock market symbol'}`\n",
      "\n",
      "\n",
      "\u001B[0m\u001B[36;1m\u001B[1;3mCloudflare Stock Surges on Strong Earnings, Upbeat Outlook—Key Price Level to Watch. Shares in Cloudflare (NET) surged nearly 25% in premarket trading Friday after the cybersecurity and content delivery solutions provider delivered a better-than-expected quarterly report and issued fi... Cloudflare Stock Is Surging. At Cloudflare, Inc., we promise to treat your data with respect and will not share your information with any third party. You can unsubscribe to any of the investor alerts you are subscribed to by visiting the 'unsubscribe' section below. ... End of Day Stock Quote: Sales Enterprise Sales Become a Partner Contact Sales: +1 (888) 99 FLARE ... Stock analysis for Cloudflare Inc (NET:New York) including stock price, stock chart, company news, key statistics, fundamentals and company profile. A high-level overview of Cloudflare, Inc. (NET) stock. Stay up to date on the latest stock price, chart, news, analysis, fundamentals, trading and investment tools. Real-time Cloudflare stock price (NYSE: NET) plus other valuable data points like day range, year, stock analyst insights, related news and more.\u001B[0m\u001B[32;1m\u001B[1;3mThe stock market symbol for Cloudflare is NET. Cloudflare's stock surged nearly 25% in premarket trading after delivering a better-than-expected quarterly report and issuing an upbeat outlook.\n",
      "\n",
      "To analyze if Cloudflare is a potential good investment, we can look at key factors such as:\n",
      "\n",
      "1. Financial Performance: Review Cloudflare's revenue growth, profitability, and cash flow to assess its financial health.\n",
      "\n",
      "2. Market Position: Evaluate Cloudflare's competitive position in the cybersecurity and content delivery solutions industry.\n",
      "\n",
      "3. Growth Potential: Consider Cloudflare's growth prospects, including expansion into new markets and services.\n",
      "\n",
      "4. Industry Trends: Analyze industry trends and how they may impact Cloudflare's future performance.\n",
      "\n",
      "5. Valuation: Assess Cloudflare's current valuation compared to its peers and historical performance.\n",
      "\n",
      "By conducting a thorough analysis of these factors, you can determine if Cloudflare is a potential good investment for you.\u001B[0m\n",
      "\n",
      "\u001B[1m> Finished chain.\u001B[0m\n"
     ]
    },
    {
     "data": {
      "text/plain": "{'input': \"Give me information on Cloudflare's stock and help me analyze if it's a potential good investment. Also tell me what symbol does the stock have.\",\n 'output': \"The stock market symbol for Cloudflare is NET. Cloudflare's stock surged nearly 25% in premarket trading after delivering a better-than-expected quarterly report and issuing an upbeat outlook.\\n\\nTo analyze if Cloudflare is a potential good investment, we can look at key factors such as:\\n\\n1. Financial Performance: Review Cloudflare's revenue growth, profitability, and cash flow to assess its financial health.\\n\\n2. Market Position: Evaluate Cloudflare's competitive position in the cybersecurity and content delivery solutions industry.\\n\\n3. Growth Potential: Consider Cloudflare's growth prospects, including expansion into new markets and services.\\n\\n4. Industry Trends: Analyze industry trends and how they may impact Cloudflare's future performance.\\n\\n5. Valuation: Assess Cloudflare's current valuation compared to its peers and historical performance.\\n\\nBy conducting a thorough analysis of these factors, you can determine if Cloudflare is a potential good investment for you.\"}"
     },
     "execution_count": 2,
     "metadata": {},
     "output_type": "execute_result"
    }
   ],
   "source": [
    "class StockMarketSymbolSearchToolArgsSchema(BaseModel):\n",
    "    query: str = Field(\n",
    "        description=\"The query you will search for.Example query: Stock Market Symbol for Apple Company\"\n",
    "    )\n",
    "\n",
    "\n",
    "class StockMarketSymbolSearchTool(BaseTool):\n",
    "    name = \"StockMarketSymbolSearchTool\"\n",
    "    description = \"\"\"\n",
    "    Use this tool to find the stock market symbol for a company.\n",
    "    It takes a query as an argument.\n",
    "    \"\"\"\n",
    "    args_schema: Type[StockMarketSymbolSearchToolArgsSchema] = StockMarketSymbolSearchToolArgsSchema\n",
    "\n",
    "    def _run(self, query: str) -> Any:\n",
    "        ddg = DuckDuckGoSearchAPIWrapper()\n",
    "        return ddg.run(query)\n",
    "\n",
    "\n",
    "agent = initialize_agent(\n",
    "    llm=llm,\n",
    "    verbose=True,\n",
    "    agent=AgentType.OPENAI_FUNCTIONS,\n",
    "    handle_parsing_errors=True,\n",
    "    tools=[\n",
    "        StockMarketSymbolSearchTool(),\n",
    "    ],\n",
    ")\n",
    "\n",
    "prompt = \"Give me information on Cloudflare's stock and help me analyze if it's a potential good investment. Also tell me what symbol does the stock have.\"\n",
    "\n",
    "agent.invoke(prompt)"
   ],
   "metadata": {
    "collapsed": false,
    "ExecuteTime": {
     "end_time": "2024-04-11T09:43:54.587288Z",
     "start_time": "2024-04-11T09:43:49.087206Z"
    }
   },
   "id": "d76280691e26c493",
   "execution_count": 2
  },
  {
   "cell_type": "code",
   "outputs": [],
   "source": [],
   "metadata": {
    "collapsed": false,
    "ExecuteTime": {
     "end_time": "2024-04-11T09:43:54.590934Z",
     "start_time": "2024-04-11T09:43:54.588696Z"
    }
   },
   "id": "69c7a81b80f1bf58",
   "execution_count": 2
  }
 ],
 "metadata": {
  "kernelspec": {
   "display_name": "Python 3",
   "language": "python",
   "name": "python3"
  },
  "language_info": {
   "codemirror_mode": {
    "name": "ipython",
    "version": 2
   },
   "file_extension": ".py",
   "mimetype": "text/x-python",
   "name": "python",
   "nbconvert_exporter": "python",
   "pygments_lexer": "ipython2",
   "version": "2.7.6"
  }
 },
 "nbformat": 4,
 "nbformat_minor": 5
}
